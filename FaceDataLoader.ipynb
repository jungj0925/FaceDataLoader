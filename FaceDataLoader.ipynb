{
  "cells": [
    {
      "cell_type": "code",
      "execution_count": 16,
      "metadata": {
        "id": "F2MSM8mffxBX"
      },
      "outputs": [],
      "source": [
        "import numpy as np\n",
        "from numpy import expand_dims\n",
        "from keras.utils import load_img\n",
        "from keras.utils import img_to_array\n",
        "from keras.preprocessing.image import ImageDataGenerator\n",
        "from matplotlib import pyplot\n",
        "from PIL import Image"
      ]
    },
    {
      "cell_type": "code",
      "execution_count": 28,
      "metadata": {
        "id": "8g-BSD7Zf4Sv"
      },
      "outputs": [],
      "source": [
        "class FaceDataLoader:\n",
        "  def __init__(self, input_file, keypoint_file, color = False):\n",
        "    self.input_file = input_file\n",
        "    self.keypoint_file = keypoint_file\n",
        "    self.color = color\n",
        "  \n",
        "  def __len__(self):\n",
        "    return len(self.input_file)\n",
        "  \n",
        "  def __getitem__(self, idx):\n",
        "    img = load_img(self.input_file)\n",
        "    data = img_to_array(img)\n",
        "    samples = expand_dims(data, 0)\n",
        "    datagen = ImageDataGenerator(\n",
        "      rotation_range=50,\n",
        "      width_shift_range=100.0,\n",
        "      height_shift_range=100.0,\n",
        "      brightness_range=None,\n",
        "      fill_mode='nearest',\n",
        "      cval=0.0,\n",
        "      horizontal_flip=True,\n",
        "      vertical_flip=True,\n",
        "      zoom_range=0.25\n",
        "    )\n",
        "    it = datagen.flow(samples, batch_size=1)\n",
        "    for i in range(9):\n",
        "      pyplot.subplot(330 + 1 + i)\n",
        "      batch = it.next()\n",
        "      image = batch[0].astype('uint8')\n",
        "      pyplot.imshow(image) ## optional -> showing the images\n",
        "      im = Image.fromarray(image)\n",
        "      im.save(f\"./augmented_{i}.png\")\n",
        "    pyplot.show()\n",
        "    return image"
      ]
    },
    {
      "cell_type": "code",
      "execution_count": 27,
      "metadata": {
        "colab": {
          "base_uri": "https://localhost:8080/",
          "height": 521
        },
        "id": "Vs6BVfWmf8Ig",
        "outputId": "285f568f-21d1-417c-e99d-4577f867d628"
      },
      "outputs": [
        {
          "ename": "ValueError",
          "evalue": "all the input arrays must have same number of dimensions, but the array at index 0 has 4 dimension(s) and the array at index 1 has 2 dimension(s)",
          "output_type": "error",
          "traceback": [
            "\u001b[1;31m---------------------------------------------------------------------------\u001b[0m",
            "\u001b[1;31mValueError\u001b[0m                                Traceback (most recent call last)",
            "Cell \u001b[1;32mIn[27], line 5\u001b[0m\n\u001b[0;32m      2\u001b[0m keypoint_file \u001b[39m=\u001b[39m \u001b[39m\"\u001b[39m\u001b[39m./keypoints.txt\u001b[39m\u001b[39m\"\u001b[39m\n\u001b[0;32m      3\u001b[0m face_loader \u001b[39m=\u001b[39m FaceDataLoader(input_file\u001b[39m=\u001b[39minput_file, keypoint_file\u001b[39m=\u001b[39mkeypoint_file)\n\u001b[1;32m----> 5\u001b[0m image_data, keypoints_data \u001b[39m=\u001b[39m face_loader[\u001b[39m0\u001b[39;49m]\n\u001b[0;32m      7\u001b[0m pyplot\u001b[39m.\u001b[39mimshow(Image\u001b[39m.\u001b[39mfromarray(image_data))\n\u001b[0;32m      8\u001b[0m \u001b[39mfor\u001b[39;00m i \u001b[39min\u001b[39;00m \u001b[39mrange\u001b[39m(\u001b[39m98\u001b[39m):\n",
            "Cell \u001b[1;32mIn[26], line 30\u001b[0m, in \u001b[0;36mFaceDataLoader.__getitem__\u001b[1;34m(self, idx)\u001b[0m\n\u001b[0;32m     28\u001b[0m samples \u001b[39m=\u001b[39m np\u001b[39m.\u001b[39mexpand_dims(data, \u001b[39m0\u001b[39m)\n\u001b[0;32m     29\u001b[0m keypoints \u001b[39m=\u001b[39m np\u001b[39m.\u001b[39mexpand_dims(keypoints, \u001b[39m0\u001b[39m)\n\u001b[1;32m---> 30\u001b[0m combined \u001b[39m=\u001b[39m np\u001b[39m.\u001b[39;49mconcatenate((samples, keypoints), axis\u001b[39m=\u001b[39;49m\u001b[39m-\u001b[39;49m\u001b[39m1\u001b[39;49m)\n\u001b[0;32m     31\u001b[0m it \u001b[39m=\u001b[39m datagen\u001b[39m.\u001b[39mflow(combined, batch_size\u001b[39m=\u001b[39m\u001b[39m1\u001b[39m)\n\u001b[0;32m     32\u001b[0m batch \u001b[39m=\u001b[39m it\u001b[39m.\u001b[39mnext()\n",
            "File \u001b[1;32m<__array_function__ internals>:180\u001b[0m, in \u001b[0;36mconcatenate\u001b[1;34m(*args, **kwargs)\u001b[0m\n",
            "\u001b[1;31mValueError\u001b[0m: all the input arrays must have same number of dimensions, but the array at index 0 has 4 dimension(s) and the array at index 1 has 2 dimension(s)"
          ]
        }
      ],
      "source": [
        "input_file = \"./test.jpg\"\n",
        "face_loader = FaceDataLoader(input_file=input_file)\n",
        "\n",
        "image_data = face_loader[0]\n",
        "\n",
        "pyplot.imshow(Image.fromarray(image_data))\n",
        "pyplot.show()"
      ]
    }
  ],
  "metadata": {
    "colab": {
      "authorship_tag": "ABX9TyNdtr7kRT8b7w0lf/pMnDIg",
      "provenance": []
    },
    "kernelspec": {
      "display_name": "Python 3",
      "name": "python3"
    },
    "language_info": {
      "codemirror_mode": {
        "name": "ipython",
        "version": 3
      },
      "file_extension": ".py",
      "mimetype": "text/x-python",
      "name": "python",
      "nbconvert_exporter": "python",
      "pygments_lexer": "ipython3",
      "version": "3.11.2"
    }
  },
  "nbformat": 4,
  "nbformat_minor": 0
}
